{
 "cells": [
  {
   "cell_type": "code",
   "execution_count": 22,
   "metadata": {},
   "outputs": [],
   "source": [
    "import numpy as np\n",
    "import base64\n",
    "from PIL import Image\n",
    "import io\n",
    "\n",
    "def cifar10_to_base64_images(img_arr):\n",
    "    # Create an empty list to hold the base64-encoded image strings\n",
    "    img_base64_list = []\n",
    "    # Loop over each image in the array\n",
    "    for i in range(img_arr.shape[0]):\n",
    "        # Convert the NumPy array to a PIL Image object\n",
    "        img = Image.fromarray(np.uint8(img_arr[i] * 255))\n",
    "        # Create a BytesIO object to hold the image data\n",
    "        img_bytes = io.BytesIO()\n",
    "        # Save the image to the BytesIO object in PNG format\n",
    "        img.save(img_bytes, format='PNG')\n",
    "        # Encode the image data in base64\n",
    "        img_base64 = base64.b64encode(img_bytes.getvalue()).decode('utf-8')\n",
    "        # Append the base64-encoded image string to the list\n",
    "        img_base64_list.append(img_base64)\n",
    "    # Return the list of base64-encoded image strings\n",
    "    return img_base64_list\n",
    "\n",
    "def numpy_to_base64_image(arr):\n",
    "    # Reshape the 1D array to a 3D array of shape (32, 32, 3)\n",
    "    arr = np.uint8(arr * 255)\n",
    "    img_arr = arr.reshape((3, 32, 32)).transpose([1, 2, 0]) \n",
    "    # Convert the NumPy array to a PIL Image object\n",
    "    img = Image.fromarray(img_arr)\n",
    "    # Create a BytesIO object to hold the image data\n",
    "    img_bytes = io.BytesIO()\n",
    "    # Save the image to the BytesIO object in PNG format\n",
    "    img.save(img_bytes, format='PNG')\n",
    "    # Encode the image data in base64\n",
    "    img_base64 = base64.b64encode(img_bytes.getvalue()).decode('utf-8')\n",
    "    # Return the base64-encoded image string\n",
    "    return img_base64"
   ]
  },
  {
   "cell_type": "code",
   "execution_count": 26,
   "metadata": {},
   "outputs": [
    {
     "data": {
      "text/html": [
       "<img src=\"data:image/png;base64,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\">"
      ],
      "text/plain": [
       "<IPython.core.display.HTML object>"
      ]
     },
     "execution_count": 26,
     "metadata": {},
     "output_type": "execute_result"
    }
   ],
   "source": [
    "import numpy as np\n",
    "\n",
    "# Assuming your 1D NumPy array of shape (3072,) containing multiple CIFAR-10 images\n",
    "# image_array = data\n",
    "image_array = data[1]\n",
    "# Convert the array to a list of base64-encoded PNG images\n",
    "# image_base64_list = cifar10_to_base64_images(image_array)\n",
    "image_base64 = numpy_to_base64_image(image_array)\n",
    "# Display the first image in Jupyter Notebook or any other compatible environment\n",
    "from IPython.display import HTML\n",
    "# html_image = '<img src=\"data:image/png;base64,{0}\">'.format(image_base64_list[0])\n",
    "html_image = '<img src=\"data:image/png;base64,{0}\">'.format(image_base64)\n",
    "HTML(html_image)\n"
   ]
  },
  {
   "cell_type": "code",
   "execution_count": 2,
   "metadata": {},
   "outputs": [
    {
     "name": "stdout",
     "output_type": "stream",
     "text": [
      "(55000, 3072)\n"
     ]
    }
   ],
   "source": [
    "import h5py\n",
    "import numpy as np\n",
    "f = h5py.File('CIFAR11_dataset.mat','r')\n",
    "data = f.get('Xtrain')\n",
    "data = np.array(data)\n",
    "print(data.shape)"
   ]
  },
  {
   "cell_type": "code",
   "execution_count": 23,
   "metadata": {},
   "outputs": [
    {
     "name": "stdout",
     "output_type": "stream",
     "text": [
      "(3072,)\n",
      "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\n"
     ]
    }
   ],
   "source": [
    "\n",
    "# Assuming your 1D NumPy array of shape (3072,) containing a single CIFAR-10 image\n",
    "image_array = data[-2]\n",
    "\n",
    "# Check the shape of the array\n",
    "print(image_array.shape)  # Output: (3072,)\n",
    "\n",
    "base64_str = numpy_to_base64_image(image_array)\n",
    "\n",
    "\n",
    "\n",
    "print(base64_str)"
   ]
  },
  {
   "cell_type": "code",
   "execution_count": null,
   "metadata": {},
   "outputs": [],
   "source": []
  },
  {
   "cell_type": "code",
   "execution_count": 25,
   "metadata": {},
   "outputs": [],
   "source": [
    "import base64\n",
    "from PIL import Image\n",
    "from io import BytesIO\n",
    "\n",
    "# assume the base64 string is stored in the variable \"base64_string\"\n",
    "\n",
    "# decode the base64 string to bytes\n",
    "img_bytes = base64.b64decode(base64_str)\n",
    "\n",
    "# read the bytes as an image using PIL (Python Imaging Library)\n",
    "img = Image.open(BytesIO(img_bytes))\n",
    "\n",
    "# show the image\n",
    "img.show()\n"
   ]
  },
  {
   "cell_type": "code",
   "execution_count": 26,
   "metadata": {},
   "outputs": [
    {
     "data": {
      "image/png": "[encoded data removed]",
      "text/plain": [
       "<PIL.PngImagePlugin.PngImageFile image mode=RGB size=32x32 at 0x7F7A18D64310>"
      ]
     },
     "metadata": {},
     "output_type": "display_data"
    }
   ],
   "source": [
    "from IPython.display import display, Image\n",
    "import base64\n",
    "from PIL import Image as PilImage\n",
    "from io import BytesIO\n",
    "\n",
    "# assume the base64 string is stored in the variable \"base64_string\"\n",
    "# decode the base64 string to bytes\n",
    "img_bytes = base64.b64decode(base64_str)\n",
    "\n",
    "# read the bytes as an image using PIL (Python Imaging Library)\n",
    "img = PilImage.open(BytesIO(img_bytes))\n",
    "\n",
    "# display the image\n",
    "display(img)\n"
   ]
  },
  {
   "cell_type": "code",
   "execution_count": 15,
   "metadata": {},
   "outputs": [
    {
     "name": "stdout",
     "output_type": "stream",
     "text": [
      "(3072,)\n"
     ]
    },
    {
     "data": {
      "image/png": "[encoded data removed]",
      "text/plain": [
       "<Figure size 640x480 with 1 Axes>"
      ]
     },
     "metadata": {},
     "output_type": "display_data"
    }
   ],
   "source": [
    "import numpy as np\n",
    "from PIL import Image\n",
    "import matplotlib.pyplot as plt\n",
    "# Assuming your 1D NumPy array of shape (3072,) containing a single CIFAR-10 image\n",
    "image_array = data[-2]\n",
    "\n",
    "# Check the shape of the array\n",
    "print(image_array.shape)  # Output: (3072,)\n",
    "\n",
    "img = image_array.reshape(3,32,32).transpose([1, 2, 0]) \n",
    "plt.imshow(img)\n",
    "plt.show()"
   ]
  }
 ],
 "metadata": {
  "kernelspec": {
   "display_name": "Python 3",
   "language": "python",
   "name": "python3"
  },
  "language_info": {
   "codemirror_mode": {
    "name": "ipython",
    "version": 3
   },
   "file_extension": ".py",
   "mimetype": "text/x-python",
   "name": "python",
   "nbconvert_exporter": "python",
   "pygments_lexer": "ipython3",
   "version": "3.10.6"
  },
  "orig_nbformat": 4
 },
 "nbformat": 4,
 "nbformat_minor": 2
}
